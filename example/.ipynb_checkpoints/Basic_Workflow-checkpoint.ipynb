{
 "cells": [
  {
   "cell_type": "markdown",
   "metadata": {},
   "source": [
    "## Basic RamanomeSpec Workflow"
   ]
  },
  {
   "cell_type": "code",
   "execution_count": 105,
   "metadata": {},
   "outputs": [
    {
     "data": {
      "text/plain": [
       "<module 'Raman_stat' from '/Users/zijianleowang/Desktop/GitHub/RamanomeSpec/scripts/Raman_stat.py'>"
      ]
     },
     "execution_count": 105,
     "metadata": {},
     "output_type": "execute_result"
    }
   ],
   "source": [
    "import os\n",
    "import pandas as pd\n",
    "import sys\n",
    "sys.path.append(\"/Users/zijianleowang/Desktop/GitHub/RamanomeSpec/scripts\")\n",
    "import Raman_read, Raman_preprocess, Raman_find_polymer, Raman_stat\n",
    "import imp\n",
    "import numpy as np\n",
    "imp.reload(Raman_read)\n",
    "imp.reload(Raman_preprocess)\n",
    "imp.reload(Raman_find_polymer)\n",
    "imp.reload(Raman_stat)"
   ]
  },
  {
   "cell_type": "code",
   "execution_count": 125,
   "metadata": {},
   "outputs": [],
   "source": [
    "def main(pathin,pathout,dataloop,metalevel,peakwindow):\n",
    "    speclist = Raman_read.read_txt(pathin,typpe='dir',dataloop=dataloop,metalevel=metalevel,outdir=pathout)\n",
    "    n, d = speclist.shape\n",
    "    stat = pd.DataFrame()\n",
    "    for i in range(n):\n",
    "        specp = speclist.iloc[i,:]\n",
    "        X,Y,Y_BG = Raman_read.read_txt(specp['abspath'])\n",
    "        if X is None and Y is None and Y_BG is None:\n",
    "            peaks=pd.DataFrame().reindex_like(peaks)\n",
    "            mol=pd.DataFrame().reindex_like(mol)\n",
    "            basic_stat=pd.Series().reindex_like(basic_stat)\n",
    "            phenotype_spec = [pd.Series() for i in phenotype_spec]\n",
    "        else:\n",
    "            Y,peaks,mol,basic_stat,phenotype_spec = Raman_preprocess.std_wf(X,Y,Y_BG,peakwindow)\n",
    "\n",
    "        # save files\n",
    "        pathouti = specp['abspathout']\n",
    "        if os.path.exists(pathouti): # remove exisiting files\n",
    "            os.remove(pathouti)\n",
    "\n",
    "        # for group member\n",
    "        Raman_read.Raman_save(pathouti,peaks,\"peak\",typpe='single')\n",
    "        Raman_read.Raman_save(pathouti,mol,\"molecule\",typpe='single')\n",
    "        Raman_read.Raman_save(pathouti,phenotype_spec,typpe='series')\n",
    "        stat = pd.concat([stat,basic_stat],axis=1)\n",
    "        \n",
    "        # for OPU analysis; the output data shape is n x d\n",
    "        Raman_read.Raman_save(pathouti.replace(\".xlsx\",\".txt\"),phenotype_spec[['wavenumber','cell']].T,\"cell\",typpe='single',filetype='txt')\n",
    "        \n",
    "    stat.columns = speclist.index\n",
    "    summary = pd.concat([speclist,stat.T],axis=1)\n",
    "    Raman_read.Raman_save(pathout+'/summary.xlsx',summary,\"summary\",typpe='single')\n",
    "    return summary"
   ]
  },
  {
   "cell_type": "code",
   "execution_count": null,
   "metadata": {},
   "outputs": [],
   "source": [
    "# Data from JRTP WWTPs with process techniques of PDNA\n",
    "pathin = \"/Users/zijianleowang/Desktop/Projects_in_Cornell/CROPPS/Field Sampling/Yuan_WWTPs/JRTP Raman txt\" \n",
    "pathout = \"/Users/zijianleowang/Desktop/Projects_in_Cornell/CROPPS/Field Sampling/Yuan_WWTPs/JRTP Raman txt out\"\n",
    "# patheg = \"/Users/zijianleowang/Desktop/Projects_in_Cornell/CROPPS/Field Sampling/Yuan_WWTPs/JRTP Raman txt/IFAS1_Endo/T1/Drop1_01.txt\"\n",
    "dataloop = 3 # pathin contains 2 layers of directory; 1st layer denotes experimental conditions; 2nd layers represents time points; end dir contains multiple txt files from LabSpec6\n",
    "metalevel = ['treatments','time points','repetitive']\n",
    "main(pathin,pathout,dataloop,metalevel)"
   ]
  },
  {
   "cell_type": "code",
   "execution_count": 129,
   "metadata": {},
   "outputs": [
    {
     "name": "stdout",
     "output_type": "stream",
     "text": [
      "/Users/zijianleowang/Downloads/CROPPS_Summer2022_Maize/Maize/Time 01 Maize 19/Drop2_01.xlsx has been saved\n",
      "/Users/zijianleowang/Downloads/CROPPS_Summer2022_Maize/Maize/Time 01 Maize 19/Drop2_01.xlsx has been saved\n",
      "/Users/zijianleowang/Downloads/CROPPS_Summer2022_Maize/Maize/Time 01 Maize 19/Drop2_01.xlsx has been saved\n",
      "/Users/zijianleowang/Downloads/CROPPS_Summer2022_Maize/Maize/Time 01 Maize 19/Drop2_01.txt has been saved\n",
      "/Users/zijianleowang/Downloads/CROPPS_Summer2022_Maize/Maize/Time 01 Maize 19/Drop1_01.xlsx has been saved\n",
      "/Users/zijianleowang/Downloads/CROPPS_Summer2022_Maize/Maize/Time 01 Maize 19/Drop1_01.xlsx has been saved\n",
      "/Users/zijianleowang/Downloads/CROPPS_Summer2022_Maize/Maize/Time 01 Maize 19/Drop1_01.xlsx has been saved\n",
      "/Users/zijianleowang/Downloads/CROPPS_Summer2022_Maize/Maize/Time 01 Maize 19/Drop1_01.txt has been saved\n",
      "/Users/zijianleowang/Downloads/CROPPS_Summer2022_Maize/Maize/Time 01 Maize 19/Drop3_01.xlsx has been saved\n",
      "/Users/zijianleowang/Downloads/CROPPS_Summer2022_Maize/Maize/Time 01 Maize 19/Drop3_01.xlsx has been saved\n",
      "/Users/zijianleowang/Downloads/CROPPS_Summer2022_Maize/Maize/Time 01 Maize 19/Drop3_01.xlsx has been saved\n",
      "/Users/zijianleowang/Downloads/CROPPS_Summer2022_Maize/Maize/Time 01 Maize 19/Drop3_01.txt has been saved\n",
      "/Users/zijianleowang/Downloads/CROPPS_Summer2022_Maize/Maize/Time 01 Maize 20/Drop2_01.xlsx has been saved\n",
      "/Users/zijianleowang/Downloads/CROPPS_Summer2022_Maize/Maize/Time 01 Maize 20/Drop2_01.xlsx has been saved\n",
      "/Users/zijianleowang/Downloads/CROPPS_Summer2022_Maize/Maize/Time 01 Maize 20/Drop2_01.xlsx has been saved\n",
      "/Users/zijianleowang/Downloads/CROPPS_Summer2022_Maize/Maize/Time 01 Maize 20/Drop2_01.txt has been saved\n",
      "/Users/zijianleowang/Downloads/CROPPS_Summer2022_Maize/Maize/Time 01 Maize 20/Drop1_01.xlsx has been saved\n",
      "/Users/zijianleowang/Downloads/CROPPS_Summer2022_Maize/Maize/Time 01 Maize 20/Drop1_01.xlsx has been saved\n",
      "/Users/zijianleowang/Downloads/CROPPS_Summer2022_Maize/Maize/Time 01 Maize 20/Drop1_01.xlsx has been saved\n",
      "/Users/zijianleowang/Downloads/CROPPS_Summer2022_Maize/Maize/Time 01 Maize 20/Drop1_01.txt has been saved\n",
      "/Users/zijianleowang/Downloads/CROPPS_Summer2022_Maize/Maize/Time 01 Maize 18/Drop2_01.xlsx has been saved\n",
      "/Users/zijianleowang/Downloads/CROPPS_Summer2022_Maize/Maize/Time 01 Maize 18/Drop2_01.xlsx has been saved\n",
      "/Users/zijianleowang/Downloads/CROPPS_Summer2022_Maize/Maize/Time 01 Maize 18/Drop2_01.xlsx has been saved\n",
      "/Users/zijianleowang/Downloads/CROPPS_Summer2022_Maize/Maize/Time 01 Maize 18/Drop2_01.txt has been saved\n",
      "/Users/zijianleowang/Downloads/CROPPS_Summer2022_Maize/Maize/Time 01 Maize 18/Drop1_01.xlsx has been saved\n",
      "/Users/zijianleowang/Downloads/CROPPS_Summer2022_Maize/Maize/Time 01 Maize 18/Drop1_01.xlsx has been saved\n",
      "/Users/zijianleowang/Downloads/CROPPS_Summer2022_Maize/Maize/Time 01 Maize 18/Drop1_01.xlsx has been saved\n",
      "/Users/zijianleowang/Downloads/CROPPS_Summer2022_Maize/Maize/Time 01 Maize 18/Drop1_01.txt has been saved\n",
      "/Users/zijianleowang/Downloads/CROPPS_Summer2022_Maize/Maize/Time 01 Maize 18/Drop3_01.xlsx has been saved\n",
      "/Users/zijianleowang/Downloads/CROPPS_Summer2022_Maize/Maize/Time 01 Maize 18/Drop3_01.xlsx has been saved\n",
      "/Users/zijianleowang/Downloads/CROPPS_Summer2022_Maize/Maize/Time 01 Maize 18/Drop3_01.xlsx has been saved\n",
      "/Users/zijianleowang/Downloads/CROPPS_Summer2022_Maize/Maize/Time 01 Maize 18/Drop3_01.txt has been saved\n",
      "/Users/zijianleowang/Downloads/CROPPS_Summer2022_Maize/Maize/Time 01 Maize 16/Drop2_01.xlsx has been saved\n",
      "/Users/zijianleowang/Downloads/CROPPS_Summer2022_Maize/Maize/Time 01 Maize 16/Drop2_01.xlsx has been saved\n",
      "/Users/zijianleowang/Downloads/CROPPS_Summer2022_Maize/Maize/Time 01 Maize 16/Drop2_01.xlsx has been saved\n",
      "/Users/zijianleowang/Downloads/CROPPS_Summer2022_Maize/Maize/Time 01 Maize 16/Drop2_01.txt has been saved\n",
      "/Users/zijianleowang/Downloads/CROPPS_Summer2022_Maize/Maize/Time 01 Maize 16/Drop1_01.xlsx has been saved\n",
      "/Users/zijianleowang/Downloads/CROPPS_Summer2022_Maize/Maize/Time 01 Maize 16/Drop1_01.xlsx has been saved\n",
      "/Users/zijianleowang/Downloads/CROPPS_Summer2022_Maize/Maize/Time 01 Maize 16/Drop1_01.xlsx has been saved\n",
      "/Users/zijianleowang/Downloads/CROPPS_Summer2022_Maize/Maize/Time 01 Maize 16/Drop1_01.txt has been saved\n",
      "/Users/zijianleowang/Downloads/CROPPS_Summer2022_Maize/Maize/Time 01 Maize 16/Drop3_01.xlsx has been saved\n",
      "/Users/zijianleowang/Downloads/CROPPS_Summer2022_Maize/Maize/Time 01 Maize 16/Drop3_01.xlsx has been saved\n",
      "/Users/zijianleowang/Downloads/CROPPS_Summer2022_Maize/Maize/Time 01 Maize 16/Drop3_01.xlsx has been saved\n",
      "/Users/zijianleowang/Downloads/CROPPS_Summer2022_Maize/Maize/Time 01 Maize 16/Drop3_01.txt has been saved\n",
      "/Users/zijianleowang/Downloads/CROPPS_Summer2022_Maize/Maize/Time 01 Maize 03/Drop2_01.xlsx has been saved\n",
      "/Users/zijianleowang/Downloads/CROPPS_Summer2022_Maize/Maize/Time 01 Maize 03/Drop2_01.xlsx has been saved\n",
      "/Users/zijianleowang/Downloads/CROPPS_Summer2022_Maize/Maize/Time 01 Maize 03/Drop2_01.xlsx has been saved\n",
      "/Users/zijianleowang/Downloads/CROPPS_Summer2022_Maize/Maize/Time 01 Maize 03/Drop2_01.txt has been saved\n",
      "/Users/zijianleowang/Downloads/CROPPS_Summer2022_Maize/Maize/Time 01 Maize 03/Drop1_01.xlsx has been saved\n",
      "/Users/zijianleowang/Downloads/CROPPS_Summer2022_Maize/Maize/Time 01 Maize 03/Drop1_01.xlsx has been saved\n",
      "/Users/zijianleowang/Downloads/CROPPS_Summer2022_Maize/Maize/Time 01 Maize 03/Drop1_01.xlsx has been saved\n",
      "/Users/zijianleowang/Downloads/CROPPS_Summer2022_Maize/Maize/Time 01 Maize 03/Drop1_01.txt has been saved\n",
      "/Users/zijianleowang/Downloads/CROPPS_Summer2022_Maize/Maize/Time 01 Maize 03/Drop3_01.xlsx has been saved\n",
      "/Users/zijianleowang/Downloads/CROPPS_Summer2022_Maize/Maize/Time 01 Maize 03/Drop3_01.xlsx has been saved\n",
      "/Users/zijianleowang/Downloads/CROPPS_Summer2022_Maize/Maize/Time 01 Maize 03/Drop3_01.xlsx has been saved\n",
      "/Users/zijianleowang/Downloads/CROPPS_Summer2022_Maize/Maize/Time 01 Maize 03/Drop3_01.txt has been saved\n",
      "/Users/zijianleowang/Downloads/CROPPS_Summer2022_Maize/Maize/Time 01 Maize 04/Drop1_01.xlsx has been saved\n",
      "/Users/zijianleowang/Downloads/CROPPS_Summer2022_Maize/Maize/Time 01 Maize 04/Drop1_01.xlsx has been saved\n",
      "/Users/zijianleowang/Downloads/CROPPS_Summer2022_Maize/Maize/Time 01 Maize 04/Drop1_01.xlsx has been saved\n",
      "/Users/zijianleowang/Downloads/CROPPS_Summer2022_Maize/Maize/Time 01 Maize 04/Drop1_01.txt has been saved\n",
      "/Users/zijianleowang/Downloads/CROPPS_Summer2022_Maize/Maize/Time 01 Maize 04/Drop1_02.xlsx has been saved\n",
      "/Users/zijianleowang/Downloads/CROPPS_Summer2022_Maize/Maize/Time 01 Maize 04/Drop1_02.xlsx has been saved\n",
      "/Users/zijianleowang/Downloads/CROPPS_Summer2022_Maize/Maize/Time 01 Maize 04/Drop1_02.xlsx has been saved\n",
      "/Users/zijianleowang/Downloads/CROPPS_Summer2022_Maize/Maize/Time 01 Maize 04/Drop1_02.txt has been saved\n",
      "/Users/zijianleowang/Downloads/CROPPS_Summer2022_Maize/Maize/Time 01 Maize 04/Drop3_01.xlsx has been saved\n",
      "/Users/zijianleowang/Downloads/CROPPS_Summer2022_Maize/Maize/Time 01 Maize 04/Drop3_01.xlsx has been saved\n",
      "/Users/zijianleowang/Downloads/CROPPS_Summer2022_Maize/Maize/Time 01 Maize 04/Drop3_01.xlsx has been saved\n",
      "/Users/zijianleowang/Downloads/CROPPS_Summer2022_Maize/Maize/Time 01 Maize 04/Drop3_01.txt has been saved\n",
      "/Users/zijianleowang/Downloads/CROPPS_Summer2022_Maize/Maize/Time 01 Maize 14/Drop2_01.xlsx has been saved\n",
      "/Users/zijianleowang/Downloads/CROPPS_Summer2022_Maize/Maize/Time 01 Maize 14/Drop2_01.xlsx has been saved\n",
      "/Users/zijianleowang/Downloads/CROPPS_Summer2022_Maize/Maize/Time 01 Maize 14/Drop2_01.xlsx has been saved\n",
      "/Users/zijianleowang/Downloads/CROPPS_Summer2022_Maize/Maize/Time 01 Maize 14/Drop2_01.txt has been saved\n",
      "/Users/zijianleowang/Downloads/CROPPS_Summer2022_Maize/Maize/Time 01 Maize 14/Drop1_01.xlsx has been saved\n",
      "/Users/zijianleowang/Downloads/CROPPS_Summer2022_Maize/Maize/Time 01 Maize 14/Drop1_01.xlsx has been saved\n",
      "/Users/zijianleowang/Downloads/CROPPS_Summer2022_Maize/Maize/Time 01 Maize 14/Drop1_01.xlsx has been saved\n",
      "/Users/zijianleowang/Downloads/CROPPS_Summer2022_Maize/Maize/Time 01 Maize 14/Drop1_01.txt has been saved\n",
      "/Users/zijianleowang/Downloads/CROPPS_Summer2022_Maize/Maize/Time 01 Maize 14/Drop3_01.xlsx has been saved\n",
      "/Users/zijianleowang/Downloads/CROPPS_Summer2022_Maize/Maize/Time 01 Maize 14/Drop3_01.xlsx has been saved\n",
      "/Users/zijianleowang/Downloads/CROPPS_Summer2022_Maize/Maize/Time 01 Maize 14/Drop3_01.xlsx has been saved\n",
      "/Users/zijianleowang/Downloads/CROPPS_Summer2022_Maize/Maize/Time 01 Maize 14/Drop3_01.txt has been saved\n",
      "/Users/zijianleowang/Downloads/CROPPS_Summer2022_Maize/Maize/Time 01 Maize 22/Drop2_01.xlsx has been saved\n",
      "/Users/zijianleowang/Downloads/CROPPS_Summer2022_Maize/Maize/Time 01 Maize 22/Drop2_01.xlsx has been saved\n",
      "/Users/zijianleowang/Downloads/CROPPS_Summer2022_Maize/Maize/Time 01 Maize 22/Drop2_01.xlsx has been saved\n",
      "/Users/zijianleowang/Downloads/CROPPS_Summer2022_Maize/Maize/Time 01 Maize 22/Drop2_01.txt has been saved\n",
      "/Users/zijianleowang/Downloads/CROPPS_Summer2022_Maize/Maize/Time 01 Maize 22/Drop1_01.xlsx has been saved\n",
      "/Users/zijianleowang/Downloads/CROPPS_Summer2022_Maize/Maize/Time 01 Maize 22/Drop1_01.xlsx has been saved\n",
      "/Users/zijianleowang/Downloads/CROPPS_Summer2022_Maize/Maize/Time 01 Maize 22/Drop1_01.xlsx has been saved\n",
      "/Users/zijianleowang/Downloads/CROPPS_Summer2022_Maize/Maize/Time 01 Maize 22/Drop1_01.txt has been saved\n",
      "/Users/zijianleowang/Downloads/CROPPS_Summer2022_Maize/Maize/Time 01 Maize 22/Drop3_01.xlsx has been saved\n",
      "/Users/zijianleowang/Downloads/CROPPS_Summer2022_Maize/Maize/Time 01 Maize 22/Drop3_01.xlsx has been saved\n",
      "/Users/zijianleowang/Downloads/CROPPS_Summer2022_Maize/Maize/Time 01 Maize 22/Drop3_01.xlsx has been saved\n",
      "/Users/zijianleowang/Downloads/CROPPS_Summer2022_Maize/Maize/Time 01 Maize 22/Drop3_01.txt has been saved\n",
      "/Users/zijianleowang/Downloads/CROPPS_Summer2022_Maize/Maize/Time 01 Maize 08/Drop2_01.xlsx has been saved\n",
      "/Users/zijianleowang/Downloads/CROPPS_Summer2022_Maize/Maize/Time 01 Maize 08/Drop2_01.xlsx has been saved\n",
      "/Users/zijianleowang/Downloads/CROPPS_Summer2022_Maize/Maize/Time 01 Maize 08/Drop2_01.xlsx has been saved\n",
      "/Users/zijianleowang/Downloads/CROPPS_Summer2022_Maize/Maize/Time 01 Maize 08/Drop2_01.txt has been saved\n",
      "/Users/zijianleowang/Downloads/CROPPS_Summer2022_Maize/Maize/Time 01 Maize 08/Drop1_01.xlsx has been saved\n",
      "/Users/zijianleowang/Downloads/CROPPS_Summer2022_Maize/Maize/Time 01 Maize 08/Drop1_01.xlsx has been saved\n",
      "/Users/zijianleowang/Downloads/CROPPS_Summer2022_Maize/Maize/Time 01 Maize 08/Drop1_01.xlsx has been saved\n",
      "/Users/zijianleowang/Downloads/CROPPS_Summer2022_Maize/Maize/Time 01 Maize 08/Drop1_01.txt has been saved\n",
      "/Users/zijianleowang/Downloads/CROPPS_Summer2022_Maize/Maize/Time 01 Maize 08/Drop3_01.xlsx has been saved\n",
      "/Users/zijianleowang/Downloads/CROPPS_Summer2022_Maize/Maize/Time 01 Maize 08/Drop3_01.xlsx has been saved\n",
      "/Users/zijianleowang/Downloads/CROPPS_Summer2022_Maize/Maize/Time 01 Maize 08/Drop3_01.xlsx has been saved\n",
      "/Users/zijianleowang/Downloads/CROPPS_Summer2022_Maize/Maize/Time 01 Maize 08/Drop3_01.txt has been saved\n",
      "/Users/zijianleowang/Downloads/CROPPS_Summer2022_Maize/Maize/Time 01 Maize 09/Drop2_01.xlsx has been saved\n",
      "/Users/zijianleowang/Downloads/CROPPS_Summer2022_Maize/Maize/Time 01 Maize 09/Drop2_01.xlsx has been saved\n",
      "/Users/zijianleowang/Downloads/CROPPS_Summer2022_Maize/Maize/Time 01 Maize 09/Drop2_01.xlsx has been saved\n",
      "/Users/zijianleowang/Downloads/CROPPS_Summer2022_Maize/Maize/Time 01 Maize 09/Drop2_01.txt has been saved\n",
      "/Users/zijianleowang/Downloads/CROPPS_Summer2022_Maize/Maize/Time 01 Maize 09/Drop1_01.xlsx has been saved\n",
      "/Users/zijianleowang/Downloads/CROPPS_Summer2022_Maize/Maize/Time 01 Maize 09/Drop1_01.xlsx has been saved\n",
      "/Users/zijianleowang/Downloads/CROPPS_Summer2022_Maize/Maize/Time 01 Maize 09/Drop1_01.xlsx has been saved\n",
      "/Users/zijianleowang/Downloads/CROPPS_Summer2022_Maize/Maize/Time 01 Maize 09/Drop1_01.txt has been saved\n",
      "/Users/zijianleowang/Downloads/CROPPS_Summer2022_Maize/Maize/Time 01 Maize 09/Drop3_01.xlsx has been saved\n",
      "/Users/zijianleowang/Downloads/CROPPS_Summer2022_Maize/Maize/Time 01 Maize 09/Drop3_01.xlsx has been saved\n",
      "/Users/zijianleowang/Downloads/CROPPS_Summer2022_Maize/Maize/Time 01 Maize 09/Drop3_01.xlsx has been saved\n",
      "/Users/zijianleowang/Downloads/CROPPS_Summer2022_Maize/Maize/Time 01 Maize 09/Drop3_01.txt has been saved\n",
      "/Users/zijianleowang/Downloads/CROPPS_Summer2022_Maize/Maize/summary.xlsx has been saved\n"
     ]
    }
   ],
   "source": [
    "# Data from CROPPS Summer Maize Rhizosphere\n",
    "imp.reload(Raman_read)\n",
    "imp.reload(Raman_preprocess)\n",
    "imp.reload(Raman_stat)\n",
    "pathin = \"/Users/zijianleowang/Downloads/CROPPS_Summer2022_Maize/Maize\"\n",
    "pathout = \"/Users/zijianleowang/Downloads/CROPPS_Summer2022_Maize/Maize\"\n",
    "dataloop = 2 # pathin contains 1 layers of directory; 1st layers represents time points; end dir contains multiple txt files from LabSpec6\n",
    "metalevel = ['time points','repetitive']\n",
    "summary = main(pathin,pathout,dataloop,metalevel,peakwindow=np.arange(1,20))"
   ]
  },
  {
   "cell_type": "markdown",
   "metadata": {},
   "source": [
    "- [x] Basics: get one table, containing n drops with meta info, all spec & index of clean, peaks info & assigned molecules; \n",
    "\n",
    "- [x] Medium: Basic calculation of cell not burnt %, cell %, PAO %\n",
    "\n",
    "- [ ] Advanced analysis: ?"
   ]
  },
  {
   "cell_type": "markdown",
   "metadata": {},
   "source": [
    "## visualize the stats in the summar"
   ]
  },
  {
   "cell_type": "code",
   "execution_count": null,
   "metadata": {},
   "outputs": [],
   "source": []
  }
 ],
 "metadata": {
  "kernelspec": {
   "display_name": "Python 3",
   "language": "python",
   "name": "python3"
  },
  "language_info": {
   "codemirror_mode": {
    "name": "ipython",
    "version": 3
   },
   "file_extension": ".py",
   "mimetype": "text/x-python",
   "name": "python",
   "nbconvert_exporter": "python",
   "pygments_lexer": "ipython3",
   "version": "3.8.3"
  },
  "vscode": {
   "interpreter": {
    "hash": "88653b0908b64145f32eec1b7982e7b4cbd9a41a7610ed73ce8679f60d1524ca"
   }
  }
 },
 "nbformat": 4,
 "nbformat_minor": 4
}
